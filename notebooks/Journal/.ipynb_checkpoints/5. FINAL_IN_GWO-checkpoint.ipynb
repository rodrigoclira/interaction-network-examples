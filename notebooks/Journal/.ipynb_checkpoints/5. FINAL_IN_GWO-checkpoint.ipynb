{
 "cells": [
  {
   "cell_type": "code",
   "execution_count": 4,
   "metadata": {},
   "outputs": [],
   "source": [
    "import networkx as nx\n",
    "import numpy as np\n",
    "import matplotlib.pyplot as plt\n",
    "%matplotlib inline  \n",
    "import pandas as pd\n",
    "import os\n",
    "from sklearn.preprocessing import minmax_scale\n",
    "import seaborn as sns; sns.set_theme()\n",
    "from collections import defaultdict\n",
    "from glob import glob\n",
    "plt.rcParams.update({'figure.max_open_warning': 0})\n",
    "import functions"
   ]
  },
  {
   "cell_type": "code",
   "execution_count": 2,
   "metadata": {},
   "outputs": [
    {
     "data": {
      "text/plain": [
       "<module 'functions' from '/home/rcls/codigos/git-projects/interaction-network-examples/notebooks/Journal/functions.py'>"
      ]
     },
     "execution_count": 2,
     "metadata": {},
     "output_type": "execute_result"
    }
   ],
   "source": [
    "from importlib import reload\n",
    "reload(functions)"
   ]
  },
  {
   "cell_type": "code",
   "execution_count": 3,
   "metadata": {},
   "outputs": [],
   "source": [
    "os.chdir('../../')"
   ]
  },
  {
   "cell_type": "markdown",
   "metadata": {},
   "source": [
    "# GWO"
   ]
  },
  {
   "cell_type": "code",
   "execution_count": 7,
   "metadata": {},
   "outputs": [
    {
     "name": "stdout",
     "output_type": "stream",
     "text": [
      "/home/rcls/codigos/git-projects/interaction-network-examples\n",
      "Quantidade de simulações: 10\n"
     ]
    }
   ],
   "source": [
    "print(os.getcwd())\n",
    "dimension=50\n",
    "folder = f'analysis_interaction_graph/{dimension}d/gwo_results/'\n",
    "func = 'Rastrigin'\n",
    "intype = 'euclidian'\n",
    "algo = 'GWO'\n",
    "simu_size = int(input(\"Quantidade de simulações: \")) # 10\n",
    "agents = 100\n",
    "evaluations = 100000"
   ]
  },
  {
   "cell_type": "code",
   "execution_count": 8,
   "metadata": {},
   "outputs": [],
   "source": [
    "#for simulation in []:\n",
    "results = defaultdict(dict)\n",
    "for simulation in range(0,simu_size):\n",
    "    results_file = f\"{algo}_{func}_intype_{intype}_improved_False_init_Uniform_it_1000_dim_{dimension}_swarm_{agents}_eval_{evaluations}_sim_{simulation:02d}_interaction_graph.txt\"\n",
    "    data = np.loadtxt(folder + results_file)\n",
    "    results_file_fit = f\"{algo}_{func}_intype_{intype}_improved_False_init_Uniform_it_1000_dim_{dimension}_swarm_{agents}_eval_{evaluations}_sim_{simulation:02d}_best_fitness_through_iterations.txt\"\n",
    "    agents = len(data[0])\n",
    "    data_transformed = data.reshape(agents, agents)\n",
    "    fit = functions.readLastLine(folder + results_file_fit)\n",
    "    results[simulation] = {'data':data_transformed, \n",
    "                           'fname': os.path.splitext(results_file)[0],\n",
    "                           'fit': fit,\n",
    "                          }"
   ]
  },
  {
   "cell_type": "markdown",
   "metadata": {},
   "source": [
    "## Heatmap using normalized data"
   ]
  },
  {
   "cell_type": "code",
   "execution_count": null,
   "metadata": {},
   "outputs": [
    {
     "name": "stdout",
     "output_type": "stream",
     "text": [
      "100\n",
      "['1', '', '', '', '', '', '', '', '', '', '', '', '', '', '', '', '', '', '', '', '', '', '', '', '', '', '', '', '', '', '', '', '', '', '', '', '', '', '', '', '', '', '', '', '', '', '', '', '', '', '', '', '', '', '', '', '', '', '', '', '', '', '', '', '', '', '', '', '', '', '', '', '', '', '', '', '', '', '', '', '', '', '', '', '', '', '', '', '', '', '', '', '', '', '', '', '', '', '', '100']\n",
      "100\n",
      "['1', '', '', '', '', '', '', '', '', '', '', '', '', '', '', '', '', '', '', '', '', '', '', '', '', '', '', '', '', '', '', '', '', '', '', '', '', '', '', '', '', '', '', '', '', '', '', '', '', '', '', '', '', '', '', '', '', '', '', '', '', '', '', '', '', '', '', '', '', '', '', '', '', '', '', '', '', '', '', '', '', '', '', '', '', '', '', '', '', '', '', '', '', '', '', '', '', '', '', '100']\n",
      "100\n",
      "['1', '', '', '', '', '', '', '', '', '', '', '', '', '', '', '', '', '', '', '', '', '', '', '', '', '', '', '', '', '', '', '', '', '', '', '', '', '', '', '', '', '', '', '', '', '', '', '', '', '', '', '', '', '', '', '', '', '', '', '', '', '', '', '', '', '', '', '', '', '', '', '', '', '', '', '', '', '', '', '', '', '', '', '', '', '', '', '', '', '', '', '', '', '', '', '', '', '', '', '100']\n",
      "100\n",
      "['1', '', '', '', '', '', '', '', '', '', '', '', '', '', '', '', '', '', '', '', '', '', '', '', '', '', '', '', '', '', '', '', '', '', '', '', '', '', '', '', '', '', '', '', '', '', '', '', '', '', '', '', '', '', '', '', '', '', '', '', '', '', '', '', '', '', '', '', '', '', '', '', '', '', '', '', '', '', '', '', '', '', '', '', '', '', '', '', '', '', '', '', '', '', '', '', '', '', '', '100']\n",
      "100\n",
      "['1', '', '', '', '', '', '', '', '', '', '', '', '', '', '', '', '', '', '', '', '', '', '', '', '', '', '', '', '', '', '', '', '', '', '', '', '', '', '', '', '', '', '', '', '', '', '', '', '', '', '', '', '', '', '', '', '', '', '', '', '', '', '', '', '', '', '', '', '', '', '', '', '', '', '', '', '', '', '', '', '', '', '', '', '', '', '', '', '', '', '', '', '', '', '', '', '', '', '', '100']\n",
      "100\n",
      "['1', '', '', '', '', '', '', '', '', '', '', '', '', '', '', '', '', '', '', '', '', '', '', '', '', '', '', '', '', '', '', '', '', '', '', '', '', '', '', '', '', '', '', '', '', '', '', '', '', '', '', '', '', '', '', '', '', '', '', '', '', '', '', '', '', '', '', '', '', '', '', '', '', '', '', '', '', '', '', '', '', '', '', '', '', '', '', '', '', '', '', '', '', '', '', '', '', '', '', '100']\n",
      "100\n",
      "['1', '', '', '', '', '', '', '', '', '', '', '', '', '', '', '', '', '', '', '', '', '', '', '', '', '', '', '', '', '', '', '', '', '', '', '', '', '', '', '', '', '', '', '', '', '', '', '', '', '', '', '', '', '', '', '', '', '', '', '', '', '', '', '', '', '', '', '', '', '', '', '', '', '', '', '', '', '', '', '', '', '', '', '', '', '', '', '', '', '', '', '', '', '', '', '', '', '', '', '100']\n"
     ]
    }
   ],
   "source": [
    "heatmap_normalized_folder = folder+\"/nb-heatmaps/normalized/\"\n",
    "if not os.path.exists(heatmap_normalized_folder):\n",
    "    os.makedirs(heatmap_normalized_folder)\n",
    "\n",
    "font_size_out=10\n",
    "for simulation in range(simu_size):\n",
    "    data = results[simulation]['data']\n",
    "    normalized_data = data / np.sqrt((np.sum(data**2)))\n",
    "    fit = results[simulation]['fit'] \n",
    "    fname = results[simulation]['fname'] + \"_normalized.png\"\n",
    "    fig, ax = plt.subplots(figsize = (6,5))\n",
    "    #plt.title(f\"Simulation #{simulation} normalized - Fitness: {fit}\", fontsize =20)\n",
    "    sns.heatmap(normalized_data, annot=False, cmap=\"Spectral_r\", vmin = 0, ax=ax, xticklabels= True, yticklabels = True)\n",
    "    \n",
    "\n",
    "    tam = len(data[0])\n",
    "    #print(tam)\n",
    "    labels = [\"\"] * tam\n",
    "    labels[0]= '1'\n",
    "    labels[-1]= f'{tam}'\n",
    "    #print(labels)\n",
    "    \n",
    "    ax.set_yticklabels(labels)\n",
    "    ax.set_ylabel(\"wolf\", fontsize=font_size_out*1.5, labelpad = -20)\n",
    "\n",
    "    ax.set_xticklabels(labels) \n",
    "    ax.set_xlabel(\"wolf\", fontsize=font_size_out*1.5, labelpad = -20)\n",
    "\n",
    "    ax.tick_params('x', colors=\"black\", labelsize=font_size_out*1.5)\n",
    "    ax.tick_params('y', colors=\"black\", labelsize=font_size_out*1.5)\n",
    "    \n",
    "    ax.axhline(y = 0, color = 'k', \n",
    "        linewidth = 2)\n",
    "\n",
    "    ax.axhline(y = agents, color = 'k',\n",
    "            linewidth = 2)\n",
    "\n",
    "    ax.axvline(x = 0, color = 'k',\n",
    "            linewidth = 2)\n",
    "\n",
    "    ax.axvline(x = agents, color = 'k',\n",
    "            linewidth = 2)\n",
    "\n",
    "        \n",
    "    cax = plt.gcf().axes[-1]\n",
    "    cax.tick_params(labelsize=font_size_out*1.5)\n",
    "    \n",
    "    \n",
    "    ax.invert_yaxis()\n",
    "    plt.tight_layout()\n",
    "    plt.savefig(heatmap_normalized_folder+fname)\n",
    "    #plt.close()"
   ]
  },
  {
   "cell_type": "markdown",
   "metadata": {},
   "source": [
    "## Heatmap using raw data"
   ]
  },
  {
   "cell_type": "code",
   "execution_count": 17,
   "metadata": {},
   "outputs": [],
   "source": [
    "#%%script false --no-raise-error\n",
    "\n",
    "heatmap_folder=folder+\"/nb-heatmaps/raw/\"\n",
    "if not os.path.exists(heatmap_folder):\n",
    "    os.makedirs(heatmap_folder)\n",
    "\n",
    "for simulation in range(simu_size):\n",
    "    data = results[simulation]['data']\n",
    "    fname = results[simulation]['fname'] + \".png\"\n",
    "    fit = results[simulation]['fit'] \n",
    "    plt.figure(figsize = (8,6))\n",
    "    plt.title(f\"Simulation #{simulation} - Fitness: {fit}\", fontsize = 20)\n",
    "    ax = sns.heatmap(data, annot=False, cmap=\"Spectral_r\")\n",
    "    ax.invert_yaxis()\n",
    "    ax.axhline(y = 0, color = 'k', \n",
    "        linewidth = 2)\n",
    "\n",
    "    ax.axhline(y = agents, color = 'k',\n",
    "            linewidth = 2)\n",
    "\n",
    "    ax.axvline(x = 0, color = 'k',\n",
    "            linewidth = 2)\n",
    "\n",
    "    ax.axvline(x = agents, color = 'k',\n",
    "            linewidth = 2)\n",
    "    fig = ax.get_figure()\n",
    "    plt.tight_layout()\n",
    "    fig.savefig(heatmap_folder+fname)\n",
    "    plt.close()\n"
   ]
  }
 ],
 "metadata": {
  "kernelspec": {
   "display_name": "Python 3",
   "language": "python",
   "name": "python3"
  },
  "language_info": {
   "codemirror_mode": {
    "name": "ipython",
    "version": 3
   },
   "file_extension": ".py",
   "mimetype": "text/x-python",
   "name": "python",
   "nbconvert_exporter": "python",
   "pygments_lexer": "ipython3",
   "version": "3.8.10"
  }
 },
 "nbformat": 4,
 "nbformat_minor": 4
}
